{
 "cells": [
  {
   "cell_type": "markdown",
   "id": "edbbc9a0",
   "metadata": {},
   "source": [
    "# Toy Examples DPR"
   ]
  },
  {
   "cell_type": "code",
   "execution_count": null,
   "id": "cc3f2125",
   "metadata": {},
   "outputs": [],
   "source": [
    "#https://github.com/beir-cellar/beir/blob/main/examples/retrieval/evaluation/dense/evaluate_dpr.py\n",
    "!pip install beir"
   ]
  },
  {
   "cell_type": "markdown",
   "id": "3c6d64f8",
   "metadata": {},
   "source": [
    "# Import Libraries"
   ]
  },
  {
   "cell_type": "code",
   "execution_count": 1,
   "id": "7c383100",
   "metadata": {},
   "outputs": [],
   "source": [
    "import numpy as np\n",
    "import pandas as pd"
   ]
  },
  {
   "cell_type": "markdown",
   "id": "5901d944",
   "metadata": {},
   "source": [
    "# Load Toy Data-Sets"
   ]
  },
  {
   "cell_type": "code",
   "execution_count": 2,
   "id": "680f5992",
   "metadata": {},
   "outputs": [
    {
     "name": "stdout",
     "output_type": "stream",
     "text": [
      "(2453, 2)\n",
      "     docno                                               text\n",
      "0   935016  he emigrated to france with his family in 1956...\n",
      "1  2360440  after being ambushed by the germans in novembe...\n",
      "2   347765  she was the second ship named for captain alex...\n",
      "3  1969335  world war ii was a global war that was under w...\n",
      "4  1576938  the ship was ordered on 2 april 1942 laid down...\n",
      "(9, 2)\n",
      "       qid                 query\n",
      "0  1015979    president of chile\n",
      "1     2674    computer animation\n",
      "2   340095  2020 summer olympics\n",
      "3  1502917         train station\n",
      "4     2574       chinese cuisine\n",
      "(2454, 4)\n",
      "       qid    docno label iteration\n",
      "0  1015979  1015979     2         0\n",
      "1  1015979  2226456     1         0\n",
      "2  1015979  1514612     1         0\n",
      "3  1015979  1119171     1         0\n",
      "4  1015979  1053174     1         0\n"
     ]
    }
   ],
   "source": [
    "#documents\n",
    "docs = pd.read_csv('./toy_data/docs.csv', dtype=str)\n",
    "\n",
    "#queries\n",
    "queries = pd.read_csv('./toy_data/queries.csv', dtype=str)\n",
    "\n",
    "#qrels\n",
    "qrels = pd.read_csv('./toy_data/qrels.csv', dtype=str)\n",
    "\n",
    "\n",
    "#prints\n",
    "print(docs.shape)\n",
    "print(docs.head())\n",
    "\n",
    "print(queries.shape)\n",
    "print(queries.head())\n",
    "\n",
    "print(qrels.shape)\n",
    "print(qrels.head())"
   ]
  },
  {
   "cell_type": "markdown",
   "id": "e1642f52",
   "metadata": {},
   "source": [
    "# Dense IR - Using Dense Passage Retrieval (DPR)"
   ]
  },
  {
   "cell_type": "code",
   "execution_count": 15,
   "id": "9d39c0e6",
   "metadata": {},
   "outputs": [],
   "source": [
    "from beir import util, LoggingHandler\n",
    "from beir.retrieval import models\n",
    "from beir.datasets.data_loader import GenericDataLoader\n",
    "from beir.retrieval.evaluation import EvaluateRetrieval\n",
    "from beir.retrieval.search.dense import DenseRetrievalExactSearch as DRES\n",
    "\n",
    "import logging\n",
    "import pathlib, os"
   ]
  },
  {
   "cell_type": "code",
   "execution_count": 23,
   "id": "4208a6d9",
   "metadata": {},
   "outputs": [],
   "source": [
    "#IMPLEMENTED MODEL FROM https://github.com/beir-cellar/beir\n",
    "#https://github.com/beir-cellar/beir/blob/main/beir/retrieval/models/dpr.py\n",
    "\n",
    "from transformers import DPRContextEncoder, DPRContextEncoderTokenizerFast\n",
    "from transformers import DPRQuestionEncoder, DPRQuestionEncoderTokenizerFast\n",
    "from typing import Union, List, Dict, Tuple\n",
    "from tqdm.autonotebook import trange\n",
    "import torch\n",
    "\n",
    "class DPR:\n",
    "    def __init__(self, model_path: Union[str, Tuple] = None, **kwargs):\n",
    "        # Query tokenizer and model\n",
    "        self.q_tokenizer = DPRQuestionEncoderTokenizerFast.from_pretrained(model_path[0])\n",
    "        self.q_model = DPRQuestionEncoder.from_pretrained(model_path[0])\n",
    "        self.q_model.cuda()\n",
    "        self.q_model.eval()\n",
    "        \n",
    "        # Context tokenizer and model\n",
    "        self.ctx_tokenizer = DPRContextEncoderTokenizerFast.from_pretrained(model_path[1])\n",
    "        self.ctx_model = DPRContextEncoder.from_pretrained(model_path[1])\n",
    "        self.ctx_model.cuda()\n",
    "        self.ctx_model.eval()\n",
    "    \n",
    "    def encode_queries(self, queries: List[str], batch_size: int = 16, **kwargs) -> torch.Tensor:\n",
    "        query_embeddings = []\n",
    "        with torch.no_grad():\n",
    "            for start_idx in trange(0, len(queries), batch_size):\n",
    "                encoded = self.q_tokenizer(queries[start_idx:start_idx+batch_size], truncation=True, padding=True, return_tensors='pt')\n",
    "                model_out = self.q_model(encoded['input_ids'].cuda(), attention_mask=encoded['attention_mask'].cuda())\n",
    "                #model_out = self.q_model(encoded['input_ids'], attention_mask=encoded['attention_mask'])\n",
    "                query_embeddings += model_out.pooler_output\n",
    "\n",
    "        return torch.stack(query_embeddings)\n",
    "        \n",
    "    def encode_corpus(self, corpus: List[Dict[str, str]], batch_size: int = 8, **kwargs) -> torch.Tensor:\n",
    "        \n",
    "        corpus_embeddings = []\n",
    "        with torch.no_grad():\n",
    "            for start_idx in trange(0, len(corpus), batch_size):\n",
    "                #titles = [row['title'] for row in corpus[start_idx:start_idx+batch_size]]\n",
    "                texts = [row['text']  for row in corpus[start_idx:start_idx+batch_size]]\n",
    "                #encoded = self.ctx_tokenizer(titles, texts, truncation='longest_first', padding=True, return_tensors='pt')\n",
    "                encoded = self.ctx_tokenizer(texts, truncation='longest_first', padding=True, return_tensors='pt')\n",
    "                model_out = self.ctx_model(encoded['input_ids'].cuda(), attention_mask=encoded['attention_mask'].cuda())\n",
    "                #model_out = self.ctx_model(encoded['input_ids'], attention_mask=encoded['attention_mask'])\n",
    "                corpus_embeddings += model_out.pooler_output.detach()\n",
    "        \n",
    "        return torch.stack(corpus_embeddings)"
   ]
  },
  {
   "cell_type": "code",
   "execution_count": 17,
   "id": "86e09581",
   "metadata": {},
   "outputs": [],
   "source": [
    "new_docs = {}\n",
    "for i in range(len(docs)):\n",
    "    new_docs[docs['docno'][i]] = {'text' : docs['text'][i]}"
   ]
  },
  {
   "cell_type": "code",
   "execution_count": 18,
   "id": "06e16ddd",
   "metadata": {},
   "outputs": [],
   "source": [
    "new_queries = {}\n",
    "for i in range(len(queries)):\n",
    "    new_queries[queries['qid'][i]] = queries['query'][i]"
   ]
  },
  {
   "cell_type": "code",
   "execution_count": 19,
   "id": "0e40cf64",
   "metadata": {},
   "outputs": [],
   "source": [
    "new_qrels = {}\n",
    "for i in range(len(qrels)):\n",
    "    new_qrels[qrels['qid'][i]] = {qrels['docno'][i] : int(qrels['label'][i])}"
   ]
  },
  {
   "cell_type": "code",
   "execution_count": null,
   "id": "17356778",
   "metadata": {},
   "outputs": [
    {
     "data": {
      "application/vnd.jupyter.widget-view+json": {
       "model_id": "3fca3f1a98aa42839492c600f217be80",
       "version_major": 2,
       "version_minor": 0
      },
      "text/plain": [
       "tokenizer_config.json:   0%|          | 0.00/28.0 [00:00<?, ?B/s]"
      ]
     },
     "metadata": {},
     "output_type": "display_data"
    },
    {
     "data": {
      "application/vnd.jupyter.widget-view+json": {
       "model_id": "82148d6ab3524087961ffc3d1b7eb611",
       "version_major": 2,
       "version_minor": 0
      },
      "text/plain": [
       "vocab.txt:   0%|          | 0.00/232k [00:00<?, ?B/s]"
      ]
     },
     "metadata": {},
     "output_type": "display_data"
    },
    {
     "data": {
      "application/vnd.jupyter.widget-view+json": {
       "model_id": "628a18038a8047a3a111587c63ea02f3",
       "version_major": 2,
       "version_minor": 0
      },
      "text/plain": [
       "tokenizer.json:   0%|          | 0.00/466k [00:00<?, ?B/s]"
      ]
     },
     "metadata": {},
     "output_type": "display_data"
    },
    {
     "data": {
      "application/vnd.jupyter.widget-view+json": {
       "model_id": "0df70c06333349d0a7ed56edea0eeacf",
       "version_major": 2,
       "version_minor": 0
      },
      "text/plain": [
       "config.json:   0%|          | 0.00/492 [00:00<?, ?B/s]"
      ]
     },
     "metadata": {},
     "output_type": "display_data"
    },
    {
     "name": "stderr",
     "output_type": "stream",
     "text": [
      "The tokenizer class you load from this checkpoint is not the same type as the class this function is called from. It may result in unexpected tokenization. \n",
      "The tokenizer class you load from this checkpoint is 'DPRQuestionEncoderTokenizer'. \n",
      "The class this function is called from is 'DPRContextEncoderTokenizerFast'.\n"
     ]
    },
    {
     "data": {
      "application/vnd.jupyter.widget-view+json": {
       "model_id": "15b08b957d1e4bdd9c31622b0cf6caad",
       "version_major": 2,
       "version_minor": 0
      },
      "text/plain": [
       "pytorch_model.bin:   0%|          | 0.00/438M [00:00<?, ?B/s]"
      ]
     },
     "metadata": {},
     "output_type": "display_data"
    }
   ],
   "source": [
    "model_dpr = DRES(DPR((\n",
    "     \"facebook/dpr-question_encoder-multiset-base\",\n",
    "     \"facebook/dpr-ctx_encoder-multiset-base\"), batch_size=16))\n",
    "retriever_dpr = EvaluateRetrieval(model_dpr, score_function=\"dot\") # or \"dot\" for dot-product\n",
    "results_dpr = retriever_dpr.retrieve(new_docs, new_queries)"
   ]
  },
  {
   "cell_type": "code",
   "execution_count": null,
   "id": "6e3425f7",
   "metadata": {},
   "outputs": [],
   "source": [
    "#### Evaluate your model with NDCG@k, MAP@K, Recall@K and Precision@K  where k = [1,3,5,10,100,1000] \n",
    "ndcg, _map, recall, precision = retriever_dpr.evaluate(new_qrels, results_dpr, retriever_dpr.k_values)"
   ]
  },
  {
   "cell_type": "code",
   "execution_count": 1,
   "id": "15fabc98",
   "metadata": {},
   "outputs": [
    {
     "ename": "NameError",
     "evalue": "name 'ndcg' is not defined",
     "output_type": "error",
     "traceback": [
      "\u001b[0;31m---------------------------------------------------------------------------\u001b[0m",
      "\u001b[0;31mNameError\u001b[0m                                 Traceback (most recent call last)",
      "\u001b[0;32m/var/folders/b4/_v02ff4x0255n8r1cwfppc4r0000gn/T/ipykernel_61437/1758712745.py\u001b[0m in \u001b[0;36m<module>\u001b[0;34m\u001b[0m\n\u001b[0;32m----> 1\u001b[0;31m \u001b[0mndcg\u001b[0m\u001b[0;34m\u001b[0m\u001b[0;34m\u001b[0m\u001b[0m\n\u001b[0m",
      "\u001b[0;31mNameError\u001b[0m: name 'ndcg' is not defined"
     ]
    }
   ],
   "source": [
    "ndcg"
   ]
  },
  {
   "cell_type": "code",
   "execution_count": 2,
   "id": "87f7321f",
   "metadata": {},
   "outputs": [
    {
     "ename": "NameError",
     "evalue": "name '_map' is not defined",
     "output_type": "error",
     "traceback": [
      "\u001b[0;31m---------------------------------------------------------------------------\u001b[0m",
      "\u001b[0;31mNameError\u001b[0m                                 Traceback (most recent call last)",
      "\u001b[0;32m/var/folders/b4/_v02ff4x0255n8r1cwfppc4r0000gn/T/ipykernel_61437/1991006345.py\u001b[0m in \u001b[0;36m<module>\u001b[0;34m\u001b[0m\n\u001b[0;32m----> 1\u001b[0;31m \u001b[0m_map\u001b[0m\u001b[0;34m\u001b[0m\u001b[0;34m\u001b[0m\u001b[0m\n\u001b[0m",
      "\u001b[0;31mNameError\u001b[0m: name '_map' is not defined"
     ]
    }
   ],
   "source": [
    "_map"
   ]
  },
  {
   "cell_type": "code",
   "execution_count": 3,
   "id": "ac9b2e25",
   "metadata": {},
   "outputs": [],
   "source": [
    "recall"
   ]
  },
  {
   "cell_type": "code",
   "execution_count": 4,
   "id": "5d9ea7b0",
   "metadata": {},
   "outputs": [
    {
     "data": {
      "text/plain": [
       "'%r'"
      ]
     },
     "execution_count": 4,
     "metadata": {},
     "output_type": "execute_result"
    }
   ],
   "source": [
    "precision"
   ]
  },
  {
   "cell_type": "code",
   "execution_count": null,
   "id": "a0ca9f06",
   "metadata": {},
   "outputs": [],
   "source": []
  }
 ],
 "metadata": {
  "kernelspec": {
   "display_name": "Python 3 (ipykernel)",
   "language": "python",
   "name": "python3"
  },
  "language_info": {
   "codemirror_mode": {
    "name": "ipython",
    "version": 3
   },
   "file_extension": ".py",
   "mimetype": "text/x-python",
   "name": "python",
   "nbconvert_exporter": "python",
   "pygments_lexer": "ipython3",
   "version": "3.9.7"
  }
 },
 "nbformat": 4,
 "nbformat_minor": 5
}
